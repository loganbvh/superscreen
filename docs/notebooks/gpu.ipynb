{
 "cells": [
  {
   "cell_type": "markdown",
   "id": "637b1b4b",
   "metadata": {},
   "source": [
    "# GPU Acceleration\n",
    "\n",
    "This notebook is intended to demonstrate GPU-acceleration of `superscreen` models.\n",
    "\n",
    "Below we will look at the time required to solve both single-layer and multi-layer models using three different methods:\n",
    "\n",
    "1. `Numpy (CPU)`: This is the default behavior when you call `superscreen.solve()` or `superscreen.solve(..., gpu=False)`.\n",
    "2. `JAX (CPU)`: This method will be used if you call `superscreen.solve(..., gpu=True)` on a machine that has JAX installed but does not have a GPU available. We test this method by forcing JAX to run on the CPU even if a GPU is available using the context manager `jax.default_device(jax.devices(\"cpu\")[0])`.\n",
    "3. `JAX (GPU)`: This method will be used if you call `superscreen.solve(..., gpu=True)` on a machine that has JAX installed and has a GPU available. This notebook will simply skip this method if no GPU is available.\n",
    "\n",
    "There are several things to keep in mind in order to get the most out of `SuperScreen` on a GPU:\n",
    "\n",
    "- Currently, only computation performed inside `superscreen.solve()` can be offloaded to a GPU. Post-processing methods belonging to `superscreen.Solution` cannot (currently) be run on a GPU. Calculations that make heavy use of these post-processing methods (such as fluxoid optimization) can be expected to show only modest speed-ups from GPU acceleration.\n",
    "- There is some overhead associated with moving data onto the GPU for processing, so calls to `superscreen.solve()` that take only 10s of ms on the CPU (e.g. single-layer models with only 1,000 or so mesh vertices) may actually be slightly slower on the GPU.\n",
    "- On the other hand, most data only needs to be transferred to the GPU once per call to `superscreen.solve()`, so large gains can be seen when iteratively solving models involving multi-layer devices.\n",
    "\n",
    "In short, **you can expect the biggest speed-ups for models with many mesh vertices and/or more than one layer**."
   ]
  },
  {
   "cell_type": "code",
   "execution_count": null,
   "id": "3cab6f1c",
   "metadata": {
    "execution": {
     "iopub.execute_input": "2022-08-02T19:09:28.289475Z",
     "iopub.status.busy": "2022-08-02T19:09:28.289045Z",
     "iopub.status.idle": "2022-08-02T19:09:53.753823Z",
     "shell.execute_reply": "2022-08-02T19:09:53.753172Z"
    }
   },
   "outputs": [],
   "source": [
    "%config InlineBackend.figure_formats = {\"retina\", \"png\"}\n",
    "%matplotlib inline\n",
    "\n",
    "from collections import defaultdict\n",
    "\n",
    "import jax\n",
    "import numpy as np\n",
    "import matplotlib.pyplot as plt\n",
    "\n",
    "plt.rcParams[\"figure.figsize\"] = (8, 6)\n",
    "plt.rcParams[\"font.size\"] = 14\n",
    "\n",
    "import superscreen as sc\n",
    "from superscreen.geometry import circle"
   ]
  },
  {
   "cell_type": "markdown",
   "id": "ca138802",
   "metadata": {},
   "source": [
    "## Setup"
   ]
  },
  {
   "cell_type": "code",
   "execution_count": null,
   "id": "1caeafa7",
   "metadata": {
    "execution": {
     "iopub.execute_input": "2022-08-02T19:09:53.758317Z",
     "iopub.status.busy": "2022-08-02T19:09:53.757503Z",
     "iopub.status.idle": "2022-08-02T19:09:53.790077Z",
     "shell.execute_reply": "2022-08-02T19:09:53.789382Z"
    }
   },
   "outputs": [],
   "source": [
    "sc.version_table()"
   ]
  },
  {
   "cell_type": "code",
   "execution_count": null,
   "id": "4fbf12bb",
   "metadata": {
    "execution": {
     "iopub.execute_input": "2022-08-02T19:09:53.793769Z",
     "iopub.status.busy": "2022-08-02T19:09:53.793503Z",
     "iopub.status.idle": "2022-08-02T19:09:53.813224Z",
     "shell.execute_reply": "2022-08-02T19:09:53.812613Z"
    }
   },
   "outputs": [],
   "source": [
    "def run_benchmark(device, min_points_values, solve_kwargs):\n",
    "    mesh_sizes = []\n",
    "    results = defaultdict(list)\n",
    "    for min_points in min_points_values:\n",
    "        device.make_mesh(min_points=min_points, optimesh_steps=10)\n",
    "        mesh_sizes.append(device.points.shape[0])\n",
    "        print(f\"Mesh size: {device.points.shape[0]}\")\n",
    "\n",
    "        key = \"Numpy (CPU)\"\n",
    "        print(f\"    {key}: \", end=\"\")\n",
    "        timing = %timeit -o sc.solve(device, **solve_kwargs)\n",
    "        results[key].append(timing)\n",
    "\n",
    "        key = \"JAX (CPU)\"\n",
    "        print(f\"    {key}: \", end=\"\")\n",
    "        with jax.default_device(jax.devices(\"cpu\")[0]):\n",
    "            timing = %timeit -o sc.solve(device, gpu=True, **solve_kwargs)\n",
    "        results[key].append(timing)\n",
    "\n",
    "        key = \"JAX (GPU)\"\n",
    "        print(f\"    {key}: \", end=\"\")\n",
    "        if \"cpu\" in jax.devices()[0].device_kind:\n",
    "            print(\"Skipping because there is no GPU available.\")\n",
    "        else:\n",
    "            timing = %timeit -o sc.solve(device, gpu=True, **solve_kwargs)\n",
    "            results[key].append(timing)\n",
    "\n",
    "    return np.array(mesh_sizes), dict(results)"
   ]
  },
  {
   "cell_type": "code",
   "execution_count": null,
   "id": "25c01619",
   "metadata": {},
   "outputs": [],
   "source": [
    "def plot_benchmark(mesh_sizes, results):\n",
    "    fig, axes = plt.subplots(1, 3, figsize=(9, 3), sharex=True, constrained_layout=True)\n",
    "    ys_ref = np.array([t.average for t in results[\"Numpy (CPU)\"]])\n",
    "    for label, timing in results.items():\n",
    "        xs = mesh_sizes\n",
    "        ys = np.array([t.average for t in timing])\n",
    "        yerr = np.array([t.stdev for t in timing])\n",
    "        for ax in axes[:2]:\n",
    "            ax.errorbar(xs, ys, yerr=yerr, marker=\"o\", ls=\"--\", label=label)\n",
    "        axes[2].plot(xs, ys_ref / ys, marker=\"o\", ls=\"--\")\n",
    "    for ax in axes:\n",
    "        ax.set_xlabel(\"Mesh size\")\n",
    "        ax.set_ylabel(\"Solve time [s]\")\n",
    "        ax.grid(True)\n",
    "    axes[2].set_ylabel(\"Speed-up vs. Numpy (CPU)\")\n",
    "    axes[0].legend(loc=0)\n",
    "    axes[1].set_yscale(\"log\")\n",
    "    return fig, axes"
   ]
  },
  {
   "cell_type": "markdown",
   "id": "03895f4b",
   "metadata": {},
   "source": [
    "## Single layer device\n",
    "\n",
    "Here we model a single-layer superconducting ring with some circulating current."
   ]
  },
  {
   "cell_type": "code",
   "execution_count": null,
   "id": "1985dc4d",
   "metadata": {
    "execution": {
     "iopub.execute_input": "2022-08-02T19:09:53.817206Z",
     "iopub.status.busy": "2022-08-02T19:09:53.816958Z",
     "iopub.status.idle": "2022-08-02T19:09:54.303653Z",
     "shell.execute_reply": "2022-08-02T19:09:54.303041Z"
    }
   },
   "outputs": [],
   "source": [
    "length_units = \"um\"\n",
    "ro = 3  # outer radius\n",
    "ri = 1  # inner radius\n",
    "slit_width = 0.25\n",
    "layer = sc.Layer(\"base\", london_lambda=0.100, thickness=0.025, z0=0)\n",
    "\n",
    "ring = circle(ro)\n",
    "hole = circle(ri)\n",
    "bounding_box = sc.Polygon(\"bounding_box\", layer=\"base\", points=circle(1.2 * ro))\n",
    "\n",
    "device = sc.Device(\n",
    "    \"ring\",\n",
    "    layers=[sc.Layer(\"base\", london_lambda=0.100, thickness=0.025, z0=0)],\n",
    "    films=[sc.Polygon(\"ring\", layer=\"base\", points=ring)],\n",
    "    holes=[sc.Polygon(\"hole\", layer=\"base\", points=hole)],\n",
    "    abstract_regions=[bounding_box],\n",
    "    length_units=length_units,\n",
    ")\n",
    "device.solve_dtype = \"float32\"\n",
    "\n",
    "fig, ax = device.draw(exclude=\"bounding_box\", legend=True)"
   ]
  },
  {
   "cell_type": "code",
   "execution_count": null,
   "id": "a7516daa",
   "metadata": {
    "execution": {
     "iopub.execute_input": "2022-08-02T19:09:54.307054Z",
     "iopub.status.busy": "2022-08-02T19:09:54.306767Z",
     "iopub.status.idle": "2022-08-02T19:09:54.312539Z",
     "shell.execute_reply": "2022-08-02T19:09:54.311785Z"
    }
   },
   "outputs": [],
   "source": [
    "# Model the device with 1 mA circulating current\n",
    "circulating_currents = {\"hole\": \"1 mA\"}\n",
    "solve_kwargs = dict(\n",
    "    circulating_currents=circulating_currents,\n",
    "    field_units=\"mT\",\n",
    "    current_units=\"mA\",\n",
    "    log_level=None,\n",
    ")\n",
    "\n",
    "# Look at solve time vs. mesh size\n",
    "min_points = 1000 * np.arange(1, 11, dtype=int)"
   ]
  },
  {
   "cell_type": "code",
   "execution_count": null,
   "id": "a09eda4e",
   "metadata": {
    "execution": {
     "iopub.execute_input": "2022-08-02T19:09:54.315765Z",
     "iopub.status.busy": "2022-08-02T19:09:54.315384Z",
     "iopub.status.idle": "2022-08-02T19:15:52.313688Z",
     "shell.execute_reply": "2022-08-02T19:15:52.312788Z"
    }
   },
   "outputs": [],
   "source": [
    "mesh_sizes, results = run_benchmark(device, min_points, solve_kwargs)"
   ]
  },
  {
   "cell_type": "code",
   "execution_count": null,
   "id": "e013350f",
   "metadata": {
    "execution": {
     "iopub.execute_input": "2022-08-02T19:15:52.317497Z",
     "iopub.status.busy": "2022-08-02T19:15:52.317195Z",
     "iopub.status.idle": "2022-08-02T19:15:52.486956Z",
     "shell.execute_reply": "2022-08-02T19:15:52.486178Z"
    }
   },
   "outputs": [],
   "source": [
    "fig, axes = plot_benchmark(mesh_sizes, results)\n",
    "_ = fig.suptitle(\"Single layer device\")"
   ]
  },
  {
   "cell_type": "markdown",
   "id": "758c8ef8",
   "metadata": {},
   "source": [
    "## Multi-layer device\n",
    "\n",
    "Here we model a scanning Superconducting QUantum Interference Device (SQUID) susceptometer, which consists of three superconducting layers."
   ]
  },
  {
   "cell_type": "code",
   "execution_count": null,
   "id": "b2788991",
   "metadata": {
    "execution": {
     "iopub.execute_input": "2022-08-02T19:15:52.490126Z",
     "iopub.status.busy": "2022-08-02T19:15:52.489689Z",
     "iopub.status.idle": "2022-08-02T19:15:52.557272Z",
     "shell.execute_reply": "2022-08-02T19:15:52.556489Z"
    }
   },
   "outputs": [],
   "source": [
    "import squids"
   ]
  },
  {
   "cell_type": "code",
   "execution_count": null,
   "id": "a951c0c2",
   "metadata": {
    "execution": {
     "iopub.execute_input": "2022-08-02T19:15:52.561473Z",
     "iopub.status.busy": "2022-08-02T19:15:52.561070Z",
     "iopub.status.idle": "2022-08-02T19:15:52.603989Z",
     "shell.execute_reply": "2022-08-02T19:15:52.603414Z"
    }
   },
   "outputs": [],
   "source": [
    "device = squids.ibm.large.make_squid()\n",
    "device.solve_dtype = \"float32\""
   ]
  },
  {
   "cell_type": "code",
   "execution_count": null,
   "id": "8085a2b5",
   "metadata": {
    "execution": {
     "iopub.execute_input": "2022-08-02T19:15:52.607441Z",
     "iopub.status.busy": "2022-08-02T19:15:52.607210Z",
     "iopub.status.idle": "2022-08-02T19:15:52.807110Z",
     "shell.execute_reply": "2022-08-02T19:15:52.806443Z"
    }
   },
   "outputs": [],
   "source": [
    "_ = device.draw(exclude=\"bounding_box\", legend=True)"
   ]
  },
  {
   "cell_type": "code",
   "execution_count": null,
   "id": "6dcd16c5",
   "metadata": {
    "execution": {
     "iopub.execute_input": "2022-08-02T19:15:52.811993Z",
     "iopub.status.busy": "2022-08-02T19:15:52.811835Z",
     "iopub.status.idle": "2022-08-02T19:15:52.818107Z",
     "shell.execute_reply": "2022-08-02T19:15:52.817542Z"
    }
   },
   "outputs": [],
   "source": [
    "# Model the device with 1 mA circulating current\n",
    "I_circ = device.ureg(\"1 mA\")\n",
    "circulating_currents = {\"fc_center\": str(I_circ)}\n",
    "solve_kwargs = dict(\n",
    "    circulating_currents=circulating_currents,\n",
    "    field_units=\"mT\",\n",
    "    current_units=\"mA\",\n",
    "    log_level=None,\n",
    "    iterations=5,\n",
    ")\n",
    "\n",
    "import logging\n",
    "logging.getLogger(\"superscreen.solve\").setLevel(logging.CRITICAL)\n",
    "\n",
    "# Look at solve time vs. mesh size\n",
    "min_points = 1000 * np.arange(2, 11, dtype=int)"
   ]
  },
  {
   "cell_type": "code",
   "execution_count": null,
   "id": "9170b7d9",
   "metadata": {
    "execution": {
     "iopub.execute_input": "2022-08-02T19:15:52.821014Z",
     "iopub.status.busy": "2022-08-02T19:15:52.820616Z",
     "iopub.status.idle": "2022-08-02T19:45:52.870645Z",
     "shell.execute_reply": "2022-08-02T19:45:52.869643Z"
    }
   },
   "outputs": [],
   "source": [
    "mesh_sizes, results = run_benchmark(device, min_points, solve_kwargs)"
   ]
  },
  {
   "cell_type": "code",
   "execution_count": null,
   "id": "cf0e8455",
   "metadata": {
    "execution": {
     "iopub.execute_input": "2022-08-02T19:45:52.873993Z",
     "iopub.status.busy": "2022-08-02T19:45:52.873613Z",
     "iopub.status.idle": "2022-08-02T19:45:53.052464Z",
     "shell.execute_reply": "2022-08-02T19:45:53.051850Z"
    }
   },
   "outputs": [],
   "source": [
    "fig, axes = plot_benchmark(mesh_sizes, results)\n",
    "_ = fig.suptitle(\"Multi-layer device\")"
   ]
  },
  {
   "cell_type": "code",
   "execution_count": null,
   "id": "f13a2d6d",
   "metadata": {},
   "outputs": [],
   "source": []
  }
 ],
 "metadata": {
  "interpreter": {
   "hash": "b3a4daa7cbb6872d203e6900d5be200d8775ffeeef936ea8d80aa4017e5e32ff"
  },
  "kernelspec": {
   "display_name": "Python 3",
   "language": "python",
   "name": "python3"
  },
  "language_info": {
   "codemirror_mode": {
    "name": "ipython",
    "version": 3
   },
   "file_extension": ".py",
   "mimetype": "text/x-python",
   "name": "python",
   "nbconvert_exporter": "python",
   "pygments_lexer": "ipython3",
   "version": "3.9.5"
  },
  "nbsphinx": {
   "execute": "never"
  }
 },
 "nbformat": 4,
 "nbformat_minor": 5
}
