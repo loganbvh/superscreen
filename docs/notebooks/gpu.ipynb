{
 "cells": [
  {
   "cell_type": "markdown",
   "id": "637b1b4b",
   "metadata": {},
   "source": [
    "# GPU Acceleration\n",
    "\n",
    "This notebook is intended to demonstrate GPU-acceleration of `superscreen` models."
   ]
  },
  {
   "cell_type": "code",
   "execution_count": null,
   "id": "3cab6f1c",
   "metadata": {},
   "outputs": [],
   "source": [
    "%config InlineBackend.figure_formats = {\"retina\", \"png\"}\n",
    "%matplotlib inline\n",
    "\n",
    "import os\n",
    "\n",
    "os.environ[\"OPENBLAS_NUM_THREADS\"] = \"1\"\n",
    "\n",
    "import logging\n",
    "\n",
    "logging.basicConfig(level=logging.INFO)\n",
    "\n",
    "import jax\n",
    "import numpy as np\n",
    "import matplotlib.pyplot as plt\n",
    "from IPython.display import clear_output\n",
    "\n",
    "plt.rcParams[\"figure.figsize\"] = (8, 6)\n",
    "plt.rcParams[\"font.size\"] = 14\n",
    "\n",
    "import superscreen as sc\n",
    "from superscreen.geometry import circle, box"
   ]
  },
  {
   "cell_type": "markdown",
   "id": "03895f4b",
   "metadata": {},
   "source": [
    "## Superconducting ring"
   ]
  },
  {
   "cell_type": "code",
   "execution_count": null,
   "id": "1985dc4d",
   "metadata": {},
   "outputs": [],
   "source": [
    "length_units = \"um\"\n",
    "ro = 3  # outer radius\n",
    "ri = 1  # inner radius\n",
    "slit_width = 0.25\n",
    "layer = sc.Layer(\"base\", london_lambda=0.100, thickness=0.025, z0=0)\n",
    "\n",
    "ring = circle(ro)\n",
    "hole = circle(ri)\n",
    "bounding_box = sc.Polygon(\"bounding_box\", layer=\"base\", points=circle(1.2 * ro))"
   ]
  },
  {
   "cell_type": "code",
   "execution_count": null,
   "id": "46bca868",
   "metadata": {},
   "outputs": [],
   "source": [
    "device = sc.Device(\n",
    "    \"ring\",\n",
    "    layers=[sc.Layer(\"base\", london_lambda=0.100, thickness=0.025, z0=0)],\n",
    "    films=[sc.Polygon(\"ring\", layer=\"base\", points=ring)],\n",
    "    holes=[sc.Polygon(\"hole\", layer=\"base\", points=hole)],\n",
    "    abstract_regions=[bounding_box],\n",
    "    length_units=length_units,\n",
    ")"
   ]
  },
  {
   "cell_type": "code",
   "execution_count": null,
   "id": "7830936c",
   "metadata": {},
   "outputs": [],
   "source": [
    "device.make_mesh(min_points=4_000, optimesh_steps=10)"
   ]
  },
  {
   "cell_type": "code",
   "execution_count": null,
   "id": "d826992e",
   "metadata": {},
   "outputs": [],
   "source": [
    "fig, ax = device.draw(exclude=\"bounding_box\", legend=True)"
   ]
  },
  {
   "cell_type": "code",
   "execution_count": null,
   "id": "a744dcbd",
   "metadata": {},
   "outputs": [],
   "source": [
    "xs = np.linspace(-3.5, 3.5, 401)\n",
    "\n",
    "cross_section_coords = [\n",
    "    # [x-coords, y-coords]\n",
    "    np.stack([xs, 0 * xs], axis=1),  # horizontal cross-section\n",
    "    np.stack([xs, -2 * np.ones_like(xs)], axis=1),  # horizontal cross-section\n",
    "    np.stack([0 * xs, xs], axis=1),  # vertical cross-section\n",
    "]"
   ]
  },
  {
   "cell_type": "markdown",
   "id": "60c59411",
   "metadata": {},
   "source": [
    "### Trapped flux\n",
    "\n",
    "We can also solve for the field and current distribution from circulating currents associated with flux trapped in the hole.\n",
    "\n",
    "We assume there is a total current of 1 mA circulating clockwise in the ring (associated with some positive net trapped flux), and that there is otherwise no applied magnetic field. From here we can calculate the current distribution in the ring, the total magnetic field in the plane of the ring, and the flux through the ring.\n",
    "\n",
    "Note that, although here we are assuming no applied field, we can also solve models with both trapped flux and applied fields."
   ]
  },
  {
   "cell_type": "code",
   "execution_count": null,
   "id": "7c7a2ecf",
   "metadata": {},
   "outputs": [],
   "source": [
    "circulating_currents = {\"hole\": \"1 mA\"}\n",
    "kwargs = dict(\n",
    "    circulating_currents=circulating_currents,\n",
    "    field_units=\"mT\",\n",
    "    current_units=\"mA\",\n",
    ")"
   ]
  },
  {
   "cell_type": "markdown",
   "id": "999f4aaf",
   "metadata": {},
   "source": [
    "#### NumPy (CPU)"
   ]
  },
  {
   "cell_type": "code",
   "execution_count": null,
   "id": "4f623153",
   "metadata": {},
   "outputs": [],
   "source": [
    "%timeit sc.solve(device,**kwargs); clear_output(wait=True)"
   ]
  },
  {
   "cell_type": "markdown",
   "id": "f923475c",
   "metadata": {},
   "source": [
    "#### JAX (CPU)"
   ]
  },
  {
   "cell_type": "code",
   "execution_count": null,
   "id": "aca1b1e5",
   "metadata": {},
   "outputs": [],
   "source": [
    "with jax.default_device(jax.devices(\"cpu\")[0]):\n",
    "    %timeit sc.solve(device, gpu=True, **kwargs); clear_output(wait=True)"
   ]
  },
  {
   "cell_type": "markdown",
   "id": "6068af83",
   "metadata": {},
   "source": [
    "#### JAX (GPU if available)"
   ]
  },
  {
   "cell_type": "code",
   "execution_count": null,
   "id": "fd1386e7",
   "metadata": {},
   "outputs": [],
   "source": [
    "if \"cpu\" in jax.devices()[0].device_kind:\n",
    "    print(\"Skipping because there is no GPU available.\")\n",
    "else:\n",
    "    %timeit sc.solve(device, gpu=True, **kwargs); clear_output(wait=True)"
   ]
  },
  {
   "cell_type": "code",
   "execution_count": null,
   "id": "8b067590",
   "metadata": {
    "scrolled": false
   },
   "outputs": [],
   "source": [
    "solution = sc.solve(device, **kwargs)[-1]\n",
    "\n",
    "fig, axes = solution.plot_fields(\n",
    "    cross_section_coords=cross_section_coords[:1], figsize=(6, 8)\n",
    ")"
   ]
  },
  {
   "cell_type": "markdown",
   "id": "8b850a94",
   "metadata": {},
   "source": [
    "### Solve for a specific fluxoid state: $\\Phi^f=n\\Phi_0$\n",
    "\n",
    "Current and field distributions for a given fluxoid state $\\Phi^f=n\\Phi_0$, where $\\Phi_0$ is the superconducting flux quantum, can be modeled by adjusting the circulating current $I_\\mathrm{circ}$ to realize the desired fluxoid value. This calculation is performed by the function `superscreen.find_fluxoid_solution()`.\n",
    "\n",
    "Here we solve for the current distribution in the ring for the $n=0$ fluxoid state (i.e. Meissner state), which can be achieved by cooling the ring through its superconducting transition with no applied field. If a small field is then applied, it is screened by the ring such that the fluxoid remains zero."
   ]
  },
  {
   "cell_type": "code",
   "execution_count": null,
   "id": "1882d3d3",
   "metadata": {},
   "outputs": [],
   "source": [
    "kwargs = dict(\n",
    "    fluxoids=dict(hole=0),\n",
    "    applied_field=sc.sources.ConstantField(1),\n",
    "    field_units=\"mT\",\n",
    "    current_units=\"mA\",\n",
    ")"
   ]
  },
  {
   "cell_type": "markdown",
   "id": "dc46347d",
   "metadata": {},
   "source": [
    "#### NumPy (CPU)"
   ]
  },
  {
   "cell_type": "code",
   "execution_count": null,
   "id": "b5f1b816",
   "metadata": {
    "scrolled": true
   },
   "outputs": [],
   "source": [
    "%timeit sc.find_fluxoid_solution(device, **kwargs); clear_output(wait=True)"
   ]
  },
  {
   "cell_type": "markdown",
   "id": "14104bff",
   "metadata": {},
   "source": [
    "#### JAX (CPU)"
   ]
  },
  {
   "cell_type": "code",
   "execution_count": null,
   "id": "e656934f",
   "metadata": {
    "scrolled": true
   },
   "outputs": [],
   "source": [
    "with jax.default_device(jax.devices(\"cpu\")[0]):\n",
    "    %timeit sc.find_fluxoid_solution(device, gpu=True, **kwargs); clear_output(wait=True)"
   ]
  },
  {
   "cell_type": "markdown",
   "id": "1247c68e",
   "metadata": {},
   "source": [
    "#### JAX (GPU if available)"
   ]
  },
  {
   "cell_type": "code",
   "execution_count": null,
   "id": "69f9b870",
   "metadata": {},
   "outputs": [],
   "source": [
    "if \"cpu\" in jax.devices()[0].device_kind:\n",
    "    print(\"Skipping because there is no GPU available.\")\n",
    "else:\n",
    "    %timeit sc.find_fluxoid_solution(device, gpu=True, **kwargs); clear_output(wait=True)"
   ]
  },
  {
   "cell_type": "code",
   "execution_count": null,
   "id": "8aa4f375",
   "metadata": {},
   "outputs": [],
   "source": [
    "# n = 0 fluxoid state, apply a field of 1 mT\n",
    "solution, result = sc.find_fluxoid_solution(device, **kwargs)\n",
    "I_circ = solution.circulating_currents[\"hole\"]\n",
    "fluxoid = sum(solution.hole_fluxoid(\"hole\")).to(\"Phi_0\").magnitude\n",
    "print(\"Root finding result:\\n\", result)\n",
    "print(f\"Total circulating current: {I_circ:.3f} mA.\")\n",
    "print(f\"Total fluxoid: {fluxoid:.6f} Phi_0.\")"
   ]
  },
  {
   "cell_type": "code",
   "execution_count": null,
   "id": "3f1eaaaf",
   "metadata": {},
   "outputs": [],
   "source": [
    "fig, axes = solution.plot_fields(\n",
    "    cross_section_coords=cross_section_coords[:1], figsize=(6, 8)\n",
    ")"
   ]
  },
  {
   "cell_type": "code",
   "execution_count": null,
   "id": "90eb51da",
   "metadata": {},
   "outputs": [],
   "source": [
    "fig, axes = solution.plot_currents(\n",
    "    cross_section_coords=cross_section_coords[:1], figsize=(6, 8)\n",
    ")"
   ]
  },
  {
   "cell_type": "markdown",
   "id": "6a5fbdb9",
   "metadata": {},
   "source": [
    "## Film with multiple holes\n",
    "\n",
    "Here we simulate a device with fewer symmetries than the ring, namely a rectangular film with two off-center rectangular holes."
   ]
  },
  {
   "cell_type": "code",
   "execution_count": null,
   "id": "796d6844",
   "metadata": {},
   "outputs": [],
   "source": [
    "length_units = \"um\"\n",
    "\n",
    "layers = [\n",
    "    sc.Layer(\"base\", Lambda=0.1, z0=0),\n",
    "]\n",
    "\n",
    "films = [\n",
    "    sc.Polygon(\"film\", layer=\"base\", points=box(8, 4)),\n",
    "]\n",
    "\n",
    "holes = [\n",
    "    sc.Polygon(\"hole0\", layer=\"base\", points=box(5, 1, center=(0.5, -0.25))).resample(\n",
    "        101\n",
    "    ),\n",
    "    sc.Polygon(\"hole1\", layer=\"base\", points=box(1, 2.5, center=(-3, 0.25))).resample(\n",
    "        51\n",
    "    ),\n",
    "]\n",
    "\n",
    "abstract_regions = [\n",
    "    sc.Polygon(\"bounding_box\", layer=\"base\", points=box(9, 5)),\n",
    "]\n",
    "\n",
    "device = sc.Device(\n",
    "    \"rect\",\n",
    "    layers=layers,\n",
    "    films=films,\n",
    "    holes=holes,\n",
    "    abstract_regions=abstract_regions,\n",
    "    length_units=length_units,\n",
    ")"
   ]
  },
  {
   "cell_type": "code",
   "execution_count": null,
   "id": "9974dc36",
   "metadata": {},
   "outputs": [],
   "source": [
    "fig, ax = device.draw(exclude=\"bounding_box\")"
   ]
  },
  {
   "cell_type": "code",
   "execution_count": null,
   "id": "3326ef3e",
   "metadata": {},
   "outputs": [],
   "source": [
    "device.make_mesh(min_points=4_000, optimesh_steps=None)"
   ]
  },
  {
   "cell_type": "code",
   "execution_count": null,
   "id": "36065a42",
   "metadata": {},
   "outputs": [],
   "source": [
    "fig, ax = device.plot(mesh=True)\n",
    "_ = ax.set_title(\n",
    "    f\"Mesh: {device.points.shape[0]} points, \" f\"{device.triangles.shape[0]} triangles\"\n",
    ")"
   ]
  },
  {
   "cell_type": "markdown",
   "id": "1e54b80e",
   "metadata": {},
   "source": [
    "### Full mutual inductance matrix"
   ]
  },
  {
   "cell_type": "markdown",
   "id": "e8e6ac72",
   "metadata": {},
   "source": [
    "#### NumPy (CPU)"
   ]
  },
  {
   "cell_type": "code",
   "execution_count": null,
   "id": "b9728752",
   "metadata": {
    "scrolled": true
   },
   "outputs": [],
   "source": [
    "%timeit device.mutual_inductance_matrix(units=\"pH\"); clear_output(wait=True)"
   ]
  },
  {
   "cell_type": "markdown",
   "id": "0019f1a4",
   "metadata": {},
   "source": [
    "#### JAX (CPU)"
   ]
  },
  {
   "cell_type": "code",
   "execution_count": null,
   "id": "87c6cc5f",
   "metadata": {},
   "outputs": [],
   "source": [
    "with jax.default_device(jax.devices(\"cpu\")[0]):\n",
    "    %timeit device.mutual_inductance_matrix(units=\"pH\", gpu=True); clear_output(wait=True)"
   ]
  },
  {
   "cell_type": "markdown",
   "id": "bf952d79",
   "metadata": {},
   "source": [
    "#### JAX (GPU if available)"
   ]
  },
  {
   "cell_type": "code",
   "execution_count": null,
   "id": "19408116",
   "metadata": {},
   "outputs": [],
   "source": [
    "if \"cpu\" in jax.devices()[0].device_kind:\n",
    "    print(\"Skipping because there is no GPU available.\")\n",
    "else:\n",
    "    %timeit device.mutual_inductance_matrix(units=\"pH\", gpu=True); clear_output(wait=True)"
   ]
  },
  {
   "cell_type": "code",
   "execution_count": null,
   "id": "426cdccd",
   "metadata": {},
   "outputs": [],
   "source": [
    "M = device.mutual_inductance_matrix(units=\"pH\")\n",
    "print(f\"Mutual inductance matrix shape:\", M.shape)\n",
    "display(M)"
   ]
  },
  {
   "cell_type": "markdown",
   "id": "39d6f26a",
   "metadata": {},
   "source": [
    "As promised, the mutual inductance matrix is approximately symmetric:"
   ]
  },
  {
   "cell_type": "code",
   "execution_count": null,
   "id": "28396506",
   "metadata": {},
   "outputs": [],
   "source": [
    "asymmetry = float(np.abs((M[0, 1] - M[1, 0]) / min(M[0, 1], M[1, 0])))\n",
    "print(f\"Mutual inductance matrix fractional asymmetry: {100 * asymmetry:.3f}%\")"
   ]
  },
  {
   "cell_type": "markdown",
   "id": "765a7139",
   "metadata": {},
   "source": [
    "### Model both holes in the $n=0$ fluxoid state"
   ]
  },
  {
   "cell_type": "code",
   "execution_count": null,
   "id": "b3b35df3",
   "metadata": {},
   "outputs": [],
   "source": [
    "kwargs = dict(\n",
    "    fluxoids=dict(hole0=0, hole1=0),\n",
    "    applied_field=sc.sources.ConstantField(1),\n",
    "    field_units=\"mT\",\n",
    "    current_units=\"mA\",\n",
    ")"
   ]
  },
  {
   "cell_type": "markdown",
   "id": "51c856b6",
   "metadata": {},
   "source": [
    "#### NumPy (CPU)"
   ]
  },
  {
   "cell_type": "code",
   "execution_count": null,
   "id": "0ae04146",
   "metadata": {
    "scrolled": true
   },
   "outputs": [],
   "source": [
    "# n = 0 fluxoid state, apply a field of 1 mT\n",
    "%timeit sc.find_fluxoid_solution(device, **kwargs); clear_output(wait=True)"
   ]
  },
  {
   "cell_type": "markdown",
   "id": "c8cbf082",
   "metadata": {},
   "source": [
    "#### JAX (CPU)"
   ]
  },
  {
   "cell_type": "code",
   "execution_count": null,
   "id": "5aeb47fc",
   "metadata": {},
   "outputs": [],
   "source": [
    "%%timeit\n",
    "with jax.default_device(jax.devices(\"cpu\")[0]):\n",
    "    # n = 0 fluxoid state, apply a field of 1 mT\n",
    "    %timeit sc.find_fluxoid_solution(device, gpu=True, **kwargs); clear_output(wait=True)"
   ]
  },
  {
   "cell_type": "markdown",
   "id": "5b23fbad",
   "metadata": {},
   "source": [
    "#### JAX (GPU if available)"
   ]
  },
  {
   "cell_type": "code",
   "execution_count": null,
   "id": "162915ce",
   "metadata": {},
   "outputs": [],
   "source": [
    "if \"cpu\" in jax.devices()[0].device_kind:\n",
    "    print(\"Skipping because there is no GPU available.\")\n",
    "else:\n",
    "    %timeit sc.find_fluxoid_solution(device, gpu=True, **kwargs); clear_output(wait=True)"
   ]
  },
  {
   "cell_type": "code",
   "execution_count": null,
   "id": "83e7d905",
   "metadata": {},
   "outputs": [],
   "source": [
    "# n = 0 fluxoid state, apply a field of 1 mT\n",
    "solution, result = sc.find_fluxoid_solution(\n",
    "    device,\n",
    "    fluxoids=dict(hole0=0, hole1=0),\n",
    "    applied_field=sc.sources.ConstantField(1),\n",
    "    field_units=\"mT\",\n",
    "    current_units=\"mA\",\n",
    ")\n",
    "clear_output(wait=True)"
   ]
  },
  {
   "cell_type": "code",
   "execution_count": null,
   "id": "1e464e09",
   "metadata": {},
   "outputs": [],
   "source": [
    "I_circ = solution.circulating_currents\n",
    "fluxoids = [\n",
    "    sum(solution.hole_fluxoid(hole)).to(\"Phi_0\").magnitude\n",
    "    for hole in (\"hole0\", \"hole1\")\n",
    "]\n",
    "print(\"Least-squares minimization result:\\n\", result)\n",
    "print(f\"Total circulating current: {I_circ} mA.\")\n",
    "print(f\"Total fluxoid: {fluxoids} Phi_0.\")"
   ]
  },
  {
   "cell_type": "code",
   "execution_count": null,
   "id": "47c7c9fa",
   "metadata": {},
   "outputs": [],
   "source": [
    "fig, axes = solution.plot_fields(figsize=(8, 3))\n",
    "fig, axes = solution.plot_currents(figsize=(8, 3))"
   ]
  },
  {
   "cell_type": "code",
   "execution_count": null,
   "id": "3123bf71",
   "metadata": {},
   "outputs": [],
   "source": [
    "sc.version_table()"
   ]
  },
  {
   "cell_type": "code",
   "execution_count": null,
   "id": "6f3491ad",
   "metadata": {},
   "outputs": [],
   "source": []
  }
 ],
 "metadata": {
  "interpreter": {
   "hash": "b3a4daa7cbb6872d203e6900d5be200d8775ffeeef936ea8d80aa4017e5e32ff"
  },
  "kernelspec": {
   "display_name": "Python 3",
   "language": "python",
   "name": "python3"
  },
  "language_info": {
   "codemirror_mode": {
    "name": "ipython",
    "version": 3
   },
   "file_extension": ".py",
   "mimetype": "text/x-python",
   "name": "python",
   "nbconvert_exporter": "python",
   "pygments_lexer": "ipython3",
   "version": "3.9.5"
  },
  "nbsphinx": {
   "execute": "never"
  }
 },
 "nbformat": 4,
 "nbformat_minor": 5
}
