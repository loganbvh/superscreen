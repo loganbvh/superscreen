{
 "cells": [
  {
   "cell_type": "markdown",
   "id": "637b1b4b",
   "metadata": {},
   "source": [
    "# GPU Acceleration\n",
    "\n",
    "This notebook is intended to demonstrate GPU-acceleration of `superscreen` models."
   ]
  },
  {
   "cell_type": "code",
   "execution_count": null,
   "id": "3cab6f1c",
   "metadata": {
    "execution": {
     "iopub.execute_input": "2022-08-02T02:58:03.012585Z",
     "iopub.status.busy": "2022-08-02T02:58:03.011952Z",
     "iopub.status.idle": "2022-08-02T02:58:34.200509Z",
     "shell.execute_reply": "2022-08-02T02:58:34.199616Z"
    }
   },
   "outputs": [],
   "source": [
    "%config InlineBackend.figure_formats = {\"retina\", \"png\"}\n",
    "%matplotlib inline\n",
    "\n",
    "from collections import defaultdict\n",
    "\n",
    "import jax\n",
    "import numpy as np\n",
    "import matplotlib.pyplot as plt\n",
    "\n",
    "plt.rcParams[\"figure.figsize\"] = (8, 6)\n",
    "plt.rcParams[\"font.size\"] = 14\n",
    "\n",
    "import superscreen as sc\n",
    "from superscreen.geometry import circle"
   ]
  },
  {
   "cell_type": "markdown",
   "id": "ca138802",
   "metadata": {},
   "source": [
    "## Setup\n",
    "\n",
    "Below we will look at the time required to solve both single-layer and multi-layer models using three different methods:\n",
    "\n",
    "1. `Numpy (CPU)`: This is the default behavior when you call `superscreen.solve()` or `superscreen.solve(..., gpu=False)`.\n",
    "2. `JAX (CPU)`: This method will be used if you call `superscreen.solve(..., gpu=True)` on a machine that has JAX installed but does not have a GPU available. We test this method by forcing JAX to run on the CPU even if a GPU is available using the context manager `jax.default_device(jax.devices(\"cpu\")[0])`.\n",
    "3. `JAX (GPU)`: This method will be used if you call `superscreen.solve(..., gpu=True)` on a machine that has JAX installed and has a GPU available. This notebook will simply skip this method if no GPU is available."
   ]
  },
  {
   "cell_type": "code",
   "execution_count": null,
   "id": "1caeafa7",
   "metadata": {},
   "outputs": [],
   "source": [
    "sc.version_table()"
   ]
  },
  {
   "cell_type": "code",
   "execution_count": null,
   "id": "4fbf12bb",
   "metadata": {},
   "outputs": [],
   "source": [
    "def run_benchmark(device, min_points_values, solve_kwargs):\n",
    "    mesh_sizes = []\n",
    "    results = defaultdict(list)\n",
    "    for min_points in min_points_values:\n",
    "        device.make_mesh(min_points=min_points, optimesh_steps=10)\n",
    "        mesh_sizes.append(device.points.shape[0])\n",
    "        print(f\"Mesh size: {device.points.shape[0]}\")\n",
    "\n",
    "        key = \"Numpy (CPU)\"\n",
    "        print(f\"    {key}: \", end=\"\")\n",
    "        timing = %timeit -o sc.solve(device, **solve_kwargs)\n",
    "        results[key].append(timing)\n",
    "\n",
    "        key = \"JAX (CPU)\"\n",
    "        print(f\"    {key}: \", end=\"\")\n",
    "        with jax.default_device(jax.devices(\"cpu\")[0]):\n",
    "            timing = %timeit -o sc.solve(device, gpu=True, **solve_kwargs)\n",
    "        results[key].append(timing)\n",
    "\n",
    "        key = \"JAX (GPU)\"\n",
    "        print(f\"    {key}: \", end=\"\")\n",
    "        if \"cpu\" in jax.devices()[0].device_kind:\n",
    "            print(\"Skipping because there is no GPU available.\")\n",
    "        else:\n",
    "            timing = %timeit -o sc.solve(device, gpu=True, **solve_kwargs)\n",
    "            results[key].append(timing)\n",
    "\n",
    "    return np.array(mesh_sizes), dict(results)\n",
    "\n",
    "def plot_benchmark(mesh_sizes, results):\n",
    "    fig, ax = plt.subplots()\n",
    "    for label, timing in results.items():\n",
    "        xs = mesh_sizes\n",
    "        ys = [t.average for t in timing]\n",
    "        yerr = [t.stdev for t in timing]\n",
    "        ax.errorbar(xs, ys, yerr=yerr, marker=\"o\", ls=\"--\", label=label)\n",
    "    ax.set_xlabel(\"Mesh size\")\n",
    "    ax.set_ylabel(\"Solve wall time [s]\")\n",
    "    ax.grid(True)\n",
    "    ax.legend(loc=0)\n",
    "    return fig, ax"
   ]
  },
  {
   "cell_type": "markdown",
   "id": "03895f4b",
   "metadata": {},
   "source": [
    "## Single layer device\n",
    "\n",
    "Here we model a single-layer superconducting ring with some circulating current."
   ]
  },
  {
   "cell_type": "code",
   "execution_count": null,
   "id": "1985dc4d",
   "metadata": {
    "execution": {
     "iopub.execute_input": "2022-08-02T00:49:37.367214Z",
     "iopub.status.busy": "2022-08-02T00:49:37.366792Z",
     "iopub.status.idle": "2022-08-02T00:49:37.373893Z",
     "shell.execute_reply": "2022-08-02T00:49:37.373186Z"
    }
   },
   "outputs": [],
   "source": [
    "length_units = \"um\"\n",
    "ro = 3  # outer radius\n",
    "ri = 1  # inner radius\n",
    "slit_width = 0.25\n",
    "layer = sc.Layer(\"base\", london_lambda=0.100, thickness=0.025, z0=0)\n",
    "\n",
    "ring = circle(ro)\n",
    "hole = circle(ri)\n",
    "bounding_box = sc.Polygon(\"bounding_box\", layer=\"base\", points=circle(1.2 * ro))\n",
    "\n",
    "device = sc.Device(\n",
    "    \"ring\",\n",
    "    layers=[sc.Layer(\"base\", london_lambda=0.100, thickness=0.025, z0=0)],\n",
    "    films=[sc.Polygon(\"ring\", layer=\"base\", points=ring)],\n",
    "    holes=[sc.Polygon(\"hole\", layer=\"base\", points=hole)],\n",
    "    abstract_regions=[bounding_box],\n",
    "    length_units=length_units,\n",
    ")\n",
    "device.solve_dtype = \"float32\"\n",
    "\n",
    "fig, ax = device.draw(exclude=\"bounding_box\", legend=True)"
   ]
  },
  {
   "cell_type": "code",
   "execution_count": null,
   "id": "a7516daa",
   "metadata": {},
   "outputs": [],
   "source": [
    "# Model the device with 1 mA circulating current\n",
    "circulating_currents = {\"hole\": \"1 mA\"}\n",
    "solve_kwargs = dict(\n",
    "    circulating_currents=circulating_currents,\n",
    "    field_units=\"mT\",\n",
    "    current_units=\"mA\",\n",
    "    log_level=None,\n",
    ")\n",
    "\n",
    "# Look at solve time vs. mesh size\n",
    "min_points = 1000 * np.arange(1, 10, dtype=int)"
   ]
  },
  {
   "cell_type": "code",
   "execution_count": null,
   "id": "a09eda4e",
   "metadata": {},
   "outputs": [],
   "source": [
    "mesh_sizes, results = run_benchmark(device, min_points, solve_kwargs)"
   ]
  },
  {
   "cell_type": "code",
   "execution_count": null,
   "id": "e013350f",
   "metadata": {},
   "outputs": [],
   "source": [
    "fig, ax = plot_benchmark(mesh_sizes, results)\n",
    "_ = ax.set_title(\"Single layer device\")"
   ]
  },
  {
   "cell_type": "markdown",
   "id": "758c8ef8",
   "metadata": {},
   "source": [
    "## Multi-layer device\n",
    "\n",
    "Here we model a scanning Superconducting QUantum Interference Device (SQUID) susceptometer, which consists of three superconducting layers."
   ]
  },
  {
   "cell_type": "code",
   "execution_count": null,
   "id": "b2788991",
   "metadata": {},
   "outputs": [],
   "source": [
    "import squids"
   ]
  },
  {
   "cell_type": "code",
   "execution_count": null,
   "id": "a951c0c2",
   "metadata": {},
   "outputs": [],
   "source": [
    "device = squids.ibm.large.make_squid()\n",
    "device.solve_dtype = \"float32\""
   ]
  },
  {
   "cell_type": "code",
   "execution_count": null,
   "id": "8085a2b5",
   "metadata": {},
   "outputs": [],
   "source": [
    "_ = device.draw(exclude=\"bounding_box\", legend=True)"
   ]
  },
  {
   "cell_type": "code",
   "execution_count": null,
   "id": "6dcd16c5",
   "metadata": {},
   "outputs": [],
   "source": [
    "# Model the device with 1 mA circulating current\n",
    "I_circ = device.ureg(\"1 mA\")\n",
    "circulating_currents = {\"fc_center\": str(I_circ)}\n",
    "solve_kwargs = dict(\n",
    "    circulating_currents=circulating_currents,\n",
    "    field_units=\"mT\",\n",
    "    current_units=\"mA\",\n",
    "    log_level=None,\n",
    "    iterations=5,\n",
    ")\n",
    "\n",
    "import logging\n",
    "logging.getLogger(\"superscreen.solve\").setLevel(logging.CRITICAL)\n",
    "\n",
    "# Look at solve time vs. mesh size\n",
    "min_points = 1000 * np.arange(2, 10, dtype=int)"
   ]
  },
  {
   "cell_type": "code",
   "execution_count": null,
   "id": "9170b7d9",
   "metadata": {},
   "outputs": [],
   "source": [
    "mesh_sizes, results = run_benchmark(device, min_points, solve_kwargs)"
   ]
  },
  {
   "cell_type": "code",
   "execution_count": null,
   "id": "cf0e8455",
   "metadata": {},
   "outputs": [],
   "source": [
    "fig, ax = plot_benchmark(mesh_sizes, results)\n",
    "_ = ax.set_title(\"Multi-layer device\")"
   ]
  },
  {
   "cell_type": "code",
   "execution_count": null,
   "id": "f13a2d6d",
   "metadata": {},
   "outputs": [],
   "source": []
  }
 ],
 "metadata": {
  "interpreter": {
   "hash": "b3a4daa7cbb6872d203e6900d5be200d8775ffeeef936ea8d80aa4017e5e32ff"
  },
  "kernelspec": {
   "display_name": "Python 3",
   "language": "python",
   "name": "python3"
  },
  "language_info": {
   "codemirror_mode": {
    "name": "ipython",
    "version": 3
   },
   "file_extension": ".py",
   "mimetype": "text/x-python",
   "name": "python",
   "nbconvert_exporter": "python",
   "pygments_lexer": "ipython3",
   "version": "3.9.5"
  },
  "nbsphinx": {
   "execute": "never"
  }
 },
 "nbformat": 4,
 "nbformat_minor": 5
}
