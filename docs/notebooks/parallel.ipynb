{
 "cells": [
  {
   "cell_type": "markdown",
   "id": "5aa73fcb",
   "metadata": {},
   "source": [
    "# Parallel processing\n",
    "\n",
    "It is common to want to study the magnetic response of a device as a function one or more properties of the device, or as a function of one of the applied boundary conditions. The `superscreen.solve_many()` function provides a convenient interface for performing \"sweeps\" of this type, where the properies that can be swept include:\n",
    "\n",
    "- The applied field $H_{z,\\,\\mathrm{applied}}$\n",
    "- Any circulating currents associated with trapped flux\n",
    "- The number and position of vortices trapped in the `Device`\n",
    "- The effective penetration depth $\\Lambda(x, y)$ (`Lambda`) or $\\lambda(x, y)$ (`london_lambda`) of each `Layer` in the `Device`\n",
    "- The vertical position $z_0$ of each `Layer` in the `Device`\n",
    "\n",
    "The geometry of the `Device` parallel to the $x-y$ plane cannot be swept in `solve_many()` because changing the geometry requires re-generating the mesh."
   ]
  },
  {
   "cell_type": "code",
   "execution_count": 1,
   "id": "baf93e26",
   "metadata": {},
   "outputs": [],
   "source": [
    "%config InlineBackend.figure_formats = {\"retina\", \"png\"}\n",
    "%matplotlib inline\n",
    "\n",
    "import os\n",
    "import time\n",
    "import logging\n",
    "\n",
    "os.environ[\"OPENBLAS_NUM_THREADS\"] = \"1\"\n",
    "\n",
    "logging.basicConfig(level=logging.INFO)\n",
    "\n",
    "import numpy as np\n",
    "import matplotlib.pyplot as plt\n",
    "\n",
    "plt.rcParams[\"figure.figsize\"] = (8, 6)\n",
    "plt.rcParams[\"font.size\"] = 14\n",
    "from IPython.display import clear_output\n",
    "\n",
    "import superscreen as sc\n",
    "from superscreen.geometry import circle"
   ]
  },
  {
   "cell_type": "markdown",
   "id": "b6552b19",
   "metadata": {},
   "source": [
    "## Introduction\n",
    "\n",
    "The idea behind `superscreen.solve_many()` is to create a set of **models** based on a single `Device` and solve them all with a single command. A single **model** consists of the following:\n",
    "\n",
    "- A `superscreen.Parameter` that calculates the applied magnetic field (if any).\n",
    "- A `dict` of `{hole_name: circulating_current}` specifying the circulating currents in the `Device` (if any).\n",
    "- A `list` of `superscreen.Vortex` objects representing vortices trapped in the `Device`.\n",
    "\n",
    "Additionally, for each **model** the penetration depth and/or $z$-position of each `layer` in the `Device` can be modified by a `layer_updater` function that takes some `update_kwargs` such that\n",
    "\n",
    "```python\n",
    "new_layer = layer_updater(old_layer, **update_kwargs)\n",
    "```\n",
    "\n",
    "In pseudocode, `superscreen.solve_many()` does the following:\n",
    "\n",
    "```python\n",
    "# Simplified pseudocode for superscreen.solve_many().\n",
    "# Given a Device, a layer_updater function, and a list of \"models\":\n",
    "model_solutions = []\n",
    "for model in models:\n",
    "    applied_field, circulating_currents, vortices, update_kwargs = model\n",
    "    device.layers_list = [layer_updater(layer, **update_kwargs) for layer in device.layers_list]\n",
    "    solutions = superscreen.solve(\n",
    "        device,\n",
    "        applied_field=applied_field,\n",
    "        circulating_currents=circulating_currents,\n",
    "        vortices=vortices,\n",
    "        ...,\n",
    "    )\n",
    "    model_solutions.append(solutions)\n",
    "# Save and/or return model_solutions.\n",
    "```\n",
    "\n",
    "There are a few reasons one would want to use `superscreen.solve_many()` instead of simply writing out a `for` loop:\n",
    "\n",
    "1. `solve_many()` takes care of generating the list of **models** to solve.\n",
    "2. `solve_many()` takes care of saving results in a convenient way.\n",
    "3. The `for` loop in the pseudocode above can be parallelized to run across multiple CPUs or even multiple nodes in a computing cluster."
   ]
  },
  {
   "cell_type": "markdown",
   "id": "01dd40b6",
   "metadata": {},
   "source": [
    "### Parallel methods\n",
    "\n",
    "There are three different \"parallel methods\" that can be specified when calling `superscreen.solve_many()`:\n",
    "\n",
    "1. `\"serial\"` or `None`: All models are solved sequentially in a single Python process (a simple `for` loop as sketched above).\n",
    "2. `\"multiprocessing\"` or `\"mp\"`: Models are solved in parallel using at most `ncpu` processes, where `ncpu` is the number of CPU cores available. This option uses the [multiprocessing](https://docs.python.org/3/library/multiprocessing.html) package from the Python standard library.\n",
    "3. `\"ray\"`: Models are solved in parallel on multiple CPUs using the third-party distributed computing package, [ray](https://docs.ray.io/en/latest/index.html).\n",
    "\n",
    "Both the `\"multiprocessing\"` and `\"ray\"` options are implemented such that a `Device's` \"big\" arrays, i.e. the mesh, Laplace operator, and kernel matrix, are placed in shared memory rather than copied to each worker process. The `\"multiprocessing\"` option is limited to work on a single machine (i.e. a laptop, workstation, or a single node in a compute cluster). The `\"ray\"` option can in principle also be used across multiple nodes in a cluster (see the [ray documentation](https://docs.ray.io/en/latest/cluster/index.html))."
   ]
  },
  {
   "cell_type": "markdown",
   "id": "7f83d6ba",
   "metadata": {},
   "source": [
    "### Disclaimer\n",
    "\n",
    "It is important to note that the relative performance of the three different \"parallel methods\" will in general depend on the specific models your are solving, and on the setup of your machine (how many CPU cores, what other programs are running, etc.). With both `multiprocessing` and `ray`, there is some overhead associated with placing arrays in shared memory and spinning up and managing new processes. This means that if each call to `solve()` (see the pseudocode above) takes only a few seconds, you are unlikely to see a big performance improvement relative to serial execution. In the limit that each call to `solve()` takes a long time relative to this overhead, you can in principle get a speedup of order `ncpu`, where `ncpu` is the number of CPUs avilable. We recommend comparing the three parallel methods in your own application before deciding which to use."
   ]
  },
  {
   "cell_type": "code",
   "execution_count": null,
   "id": "907eb836",
   "metadata": {},
   "outputs": [],
   "source": [
    "sc.version_table()"
   ]
  },
  {
   "cell_type": "markdown",
   "id": "fbeffd7d",
   "metadata": {},
   "source": [
    "## Example\n",
    "\n",
    "Here we will demonstrate the use of `superscreen.solve_many()` by modeling the mutual inductance between two concentric rings as a function of both their penetration depth $\\Lambda$ and the vertical distance $\\Delta z$ between them."
   ]
  },
  {
   "cell_type": "markdown",
   "id": "48f6e2a1",
   "metadata": {},
   "source": [
    "### Setup\n",
    "\n",
    "Define a function to create out `Device` with two concentric rings."
   ]
  },
  {
   "cell_type": "code",
   "execution_count": null,
   "id": "9e77684e",
   "metadata": {},
   "outputs": [],
   "source": [
    "def two_rings(inner_radius=3, outer_radius=5, length_units=\"um\"):\n",
    "    \"\"\"Returns a Device representing two concentric rings.\"\"\"\n",
    "    layers = [\n",
    "        sc.Layer(\"layer0\", Lambda=0, z0=0),\n",
    "        sc.Layer(\"layer1\", Lambda=0, z0=1),\n",
    "    ]\n",
    "    films = [\n",
    "        sc.Polygon(\"big_ring\", layer=\"layer0\", points=circle(1.5 * outer_radius)),\n",
    "        sc.Polygon(\"little_ring\", layer=\"layer1\", points=circle(outer_radius)),\n",
    "    ]\n",
    "    holes = [\n",
    "        sc.Polygon(\"big_hole\", layer=\"layer0\", points=circle(1.5 * inner_radius)),\n",
    "        sc.Polygon(\"little_hole\", layer=\"layer1\", points=circle(inner_radius)),\n",
    "    ]\n",
    "    abstract_regions = [\n",
    "        sc.Polygon(\"bounding_box\", layer=\"layer0\", points=circle(2 * outer_radius)),\n",
    "    ]\n",
    "    return sc.Device(\n",
    "        \"two_rings\",\n",
    "        layers=layers,\n",
    "        films=films,\n",
    "        holes=holes,\n",
    "        abstract_regions=abstract_regions,\n",
    "        length_units=length_units,\n",
    "    )"
   ]
  },
  {
   "cell_type": "code",
   "execution_count": null,
   "id": "d31c0db3",
   "metadata": {},
   "outputs": [],
   "source": [
    "device = two_rings()\n",
    "_ = device.draw(exclude=\"bounding_box\", subplots=True)"
   ]
  },
  {
   "cell_type": "code",
   "execution_count": null,
   "id": "94f63154",
   "metadata": {},
   "outputs": [],
   "source": [
    "device.make_mesh(min_points=3000)"
   ]
  },
  {
   "cell_type": "markdown",
   "id": "8599d883",
   "metadata": {},
   "source": [
    "Recall that to model the mutual inductance $M$ between two holes, we specify a current $I_\\mathrm{circ}$ to circulate around one of the holes, and calculate the fluxoid $\\Phi^f_S$ induced in the other hole. The mutual inductance is then $M=\\Phi^f_S / I_\\mathrm{circ}$."
   ]
  },
  {
   "cell_type": "code",
   "execution_count": null,
   "id": "37f02dd3",
   "metadata": {},
   "outputs": [],
   "source": [
    "I_circ = device.ureg(\"1 mA\")\n",
    "circulating_currents = {\"big_hole\": str(I_circ)}"
   ]
  },
  {
   "cell_type": "code",
   "execution_count": null,
   "id": "1da38739",
   "metadata": {},
   "outputs": [],
   "source": [
    "NUM_CPUS = sc.parallel.cpu_count() - 1"
   ]
  },
  {
   "cell_type": "markdown",
   "id": "59cbfaa7",
   "metadata": {},
   "source": [
    "### Sweep $\\Lambda$"
   ]
  },
  {
   "cell_type": "code",
   "execution_count": null,
   "id": "32ed1469",
   "metadata": {},
   "outputs": [],
   "source": [
    "def update_Lambda(layer, **Lambdas):\n",
    "    \"\"\"Updates a layer based on a dict Lambdas = {layer_name: layer_Lambda}.\"\"\"\n",
    "    if layer.name in Lambdas:\n",
    "        layer.Lambda = Lambdas[layer.name]\n",
    "    return layer\n",
    "\n",
    "\n",
    "def sweep_Lambda(Lambdas, iterations=6, parallel_method=None):\n",
    "    \"\"\"Sweep Lambda using superscreen.solve_many().\"\"\"\n",
    "\n",
    "    layer_update_kwargs = [\n",
    "        {layer.name: Lambda for layer in device.layers.values()} for Lambda in Lambdas\n",
    "    ]\n",
    "\n",
    "    start = time.perf_counter()\n",
    "\n",
    "    solutions, paths = sc.solve_many(\n",
    "        device,\n",
    "        circulating_currents=circulating_currents,\n",
    "        layer_updater=update_Lambda,\n",
    "        layer_update_kwargs=layer_update_kwargs,\n",
    "        parallel_method=parallel_method,\n",
    "        num_cpus=NUM_CPUS,\n",
    "        iterations=iterations,\n",
    "        return_solutions=True,\n",
    "        keep_only_final_solution=True,\n",
    "    )\n",
    "\n",
    "    end = time.perf_counter()\n",
    "    elapsed_seconds = end - start\n",
    "    seconds_per_model = elapsed_seconds / len(Lambdas)\n",
    "    clear_output(wait=True)\n",
    "    print(\n",
    "        f\"parallel_method = {parallel_method}, \"\n",
    "        f\"elapsed_seconds = {elapsed_seconds:.3f}, \"\n",
    "        f\"seconds_per_model = {seconds_per_model:.3f}\"\n",
    "    )\n",
    "    return solutions"
   ]
  },
  {
   "cell_type": "code",
   "execution_count": null,
   "id": "0062f228",
   "metadata": {},
   "outputs": [],
   "source": [
    "Lambdas = np.linspace(0, 0.95, 20)"
   ]
  },
  {
   "cell_type": "code",
   "execution_count": null,
   "id": "b968716b",
   "metadata": {
    "scrolled": true
   },
   "outputs": [],
   "source": [
    "solutions = sweep_Lambda(Lambdas, parallel_method=None)"
   ]
  },
  {
   "cell_type": "code",
   "execution_count": null,
   "id": "d2d3e805",
   "metadata": {},
   "outputs": [],
   "source": [
    "solutions_ray = sweep_Lambda(Lambdas, parallel_method=\"ray\")"
   ]
  },
  {
   "cell_type": "code",
   "execution_count": null,
   "id": "f6badeb7",
   "metadata": {},
   "outputs": [],
   "source": [
    "solutions_mp = sweep_Lambda(Lambdas, parallel_method=\"multiprocessing\")"
   ]
  },
  {
   "cell_type": "markdown",
   "id": "b6be086a",
   "metadata": {},
   "source": [
    "Calculcate and plot the mutual inductance $M$ for each `Solution`:"
   ]
  },
  {
   "cell_type": "code",
   "execution_count": null,
   "id": "741251c0",
   "metadata": {},
   "outputs": [],
   "source": [
    "mutuals = []\n",
    "for i, solution in enumerate(solutions):\n",
    "    print(i, end=\" \")\n",
    "    fluxoid = sum(solution.hole_fluxoid(\"little_hole\"))\n",
    "    mutuals.append((fluxoid / I_circ).to(\"pH\").magnitude)"
   ]
  },
  {
   "cell_type": "code",
   "execution_count": null,
   "id": "2ca6a305",
   "metadata": {},
   "outputs": [],
   "source": [
    "fig, ax = plt.subplots()\n",
    "ax.plot(Lambdas, mutuals, \"o-\")\n",
    "ax.grid(True)\n",
    "ax.set_xlabel(\"$\\\\Lambda$ [$\\\\mu$m]\")\n",
    "ax.set_ylabel(\"Mutual inductance [pH]\")\n",
    "DeltaZ = device.layers[\"layer1\"].z0 - device.layers[\"layer0\"].z0\n",
    "ax.set_title(f\"$\\\\Delta z$ = {DeltaZ:.1f} $\\\\mu$m\")"
   ]
  },
  {
   "cell_type": "markdown",
   "id": "67bbeb72",
   "metadata": {},
   "source": [
    "### Sweep $\\Delta z$"
   ]
  },
  {
   "cell_type": "code",
   "execution_count": null,
   "id": "dda1afe8",
   "metadata": {},
   "outputs": [],
   "source": [
    "def update_height(layer, **heights):\n",
    "    if layer.name in heights:\n",
    "        layer.z0 = heights[layer.name]\n",
    "    return layer\n",
    "\n",
    "\n",
    "def sweep_height(heights, iterations=6, parallel_method=None):\n",
    "    \"\"\"Sweep \\Delta z using superscreen.solve_many().\"\"\"\n",
    "\n",
    "    layer_update_kwargs = [dict(layer0=0, layer1=z0) for z0 in heights]\n",
    "\n",
    "    start = time.perf_counter()\n",
    "\n",
    "    solutions, paths = sc.solve_many(\n",
    "        device,\n",
    "        circulating_currents=circulating_currents,\n",
    "        layer_updater=update_height,\n",
    "        layer_update_kwargs=layer_update_kwargs,\n",
    "        parallel_method=parallel_method,\n",
    "        num_cpus=NUM_CPUS,\n",
    "        iterations=iterations,\n",
    "        return_solutions=True,\n",
    "        keep_only_final_solution=True,\n",
    "    )\n",
    "\n",
    "    end = time.perf_counter()\n",
    "    elapsed_seconds = end - start\n",
    "    seconds_per_model = elapsed_seconds / len(heights)\n",
    "\n",
    "    clear_output(wait=True)\n",
    "    print(\n",
    "        f\"parallel_method = {parallel_method}, \"\n",
    "        f\"elapsed_seconds = {elapsed_seconds:.3f}, \"\n",
    "        f\"seconds_per_model = {seconds_per_model:.3f}\"\n",
    "    )\n",
    "    return solutions"
   ]
  },
  {
   "cell_type": "code",
   "execution_count": null,
   "id": "a3e4e903",
   "metadata": {},
   "outputs": [],
   "source": [
    "z0s = np.linspace(0.5, 5.5, 20)\n",
    "\n",
    "# Set Lambda = 0.5 microns for both layers\n",
    "Lambda = 0.5\n",
    "for layer in device.layers.values():\n",
    "    layer.Lambda = Lambda"
   ]
  },
  {
   "cell_type": "code",
   "execution_count": null,
   "id": "b0fcf122",
   "metadata": {
    "scrolled": true
   },
   "outputs": [],
   "source": [
    "solutions = sweep_height(z0s, parallel_method=None)"
   ]
  },
  {
   "cell_type": "code",
   "execution_count": null,
   "id": "ddb57f00",
   "metadata": {},
   "outputs": [],
   "source": [
    "solutions = sweep_height(z0s, parallel_method=\"ray\")"
   ]
  },
  {
   "cell_type": "code",
   "execution_count": null,
   "id": "8f2beeff",
   "metadata": {},
   "outputs": [],
   "source": [
    "solutions = sweep_height(z0s, parallel_method=\"multiprocessing\")"
   ]
  },
  {
   "cell_type": "markdown",
   "id": "a1f9ab66",
   "metadata": {},
   "source": [
    "Calculcate and plot the mutual inductance $M$ for each `Solution`:"
   ]
  },
  {
   "cell_type": "code",
   "execution_count": null,
   "id": "d9690af4",
   "metadata": {},
   "outputs": [],
   "source": [
    "mutuals = []\n",
    "for i, solution in enumerate(solutions):\n",
    "    print(i, end=\" \")\n",
    "    fluxoid = sum(solution.hole_fluxoid(\"little_hole\"))\n",
    "    mutuals.append((fluxoid / I_circ).to(\"pH\").magnitude)"
   ]
  },
  {
   "cell_type": "code",
   "execution_count": null,
   "id": "15296bb6",
   "metadata": {},
   "outputs": [],
   "source": [
    "fig, ax = plt.subplots()\n",
    "ax.plot(z0s, mutuals, \"o-\")\n",
    "ax.grid(True)\n",
    "ax.set_xlabel(\"$\\\\Delta z$ [$\\\\mu$m]\")\n",
    "ax.set_ylabel(\"Mutual inductance [pH]\")\n",
    "ax.set_title(f\"$\\\\Lambda$ = {Lambda:.1f} $\\\\mu$m\")"
   ]
  },
  {
   "cell_type": "code",
   "execution_count": null,
   "id": "1d037874",
   "metadata": {},
   "outputs": [],
   "source": []
  }
 ],
 "metadata": {
  "kernelspec": {
   "display_name": "Python 3",
   "language": "python",
   "name": "python3"
  },
  "language_info": {
   "codemirror_mode": {
    "name": "ipython",
    "version": 3
   },
   "file_extension": ".py",
   "mimetype": "text/x-python",
   "name": "python",
   "nbconvert_exporter": "python",
   "pygments_lexer": "ipython3",
   "version": "3.9.5"
  },
  "nbsphinx": {
   "execute": "never"
  }
 },
 "nbformat": 4,
 "nbformat_minor": 5
}
