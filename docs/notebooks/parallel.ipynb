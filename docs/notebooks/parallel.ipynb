{
 "cells": [
  {
   "cell_type": "markdown",
   "id": "5aa73fcb",
   "metadata": {},
   "source": [
    "# Parallel processing\n",
    "\n",
    "It is common to want to study the magnetic response of a device as a function one or more properties of the device, or as a function of one of the applied boundary conditions. The `superscreen.solve_many()` function provides a convenient interface for performing \"sweeps\" of this type, where the properies that can be swept include:\n",
    "\n",
    "- The applied field $H_{z,\\,\\mathrm{applied}}$\n",
    "- Any circulating currents associated with trapped flux\n",
    "- The number and position of vortices trapped in the `Device`\n",
    "- The effective penetration depth $\\Lambda(x, y)$ (`Lambda`) or $\\lambda(x, y)$ (`london_lambda`) of each `Layer` in the `Device`\n",
    "- The vertical position $z_0$ of each `Layer` in the `Device`\n",
    "\n",
    "The geometry of the `Device` parallel to the $x-y$ plane cannot be swept in `solve_many()` because changing the geometry requires re-generating the mesh."
   ]
  },
  {
   "cell_type": "code",
   "execution_count": null,
   "id": "baf93e26",
   "metadata": {
    "execution": {
     "iopub.execute_input": "2022-12-15T02:00:12.080182Z",
     "iopub.status.busy": "2022-12-15T02:00:12.079119Z",
     "iopub.status.idle": "2022-12-15T02:00:59.369142Z",
     "shell.execute_reply": "2022-12-15T02:00:59.367757Z"
    }
   },
   "outputs": [],
   "source": [
    "%config InlineBackend.figure_formats = {\"retina\", \"png\"}\n",
    "%matplotlib inline\n",
    "\n",
    "import os\n",
    "import logging\n",
    "\n",
    "os.environ[\"OPENBLAS_NUM_THREADS\"] = \"1\"\n",
    "\n",
    "logging.basicConfig(level=logging.CRITICAL)\n",
    "\n",
    "import ray\n",
    "import numpy as np\n",
    "import matplotlib.pyplot as plt\n",
    "\n",
    "plt.rcParams[\"figure.figsize\"] = (5, 4)\n",
    "plt.rcParams[\"font.size\"] = 10\n",
    "from IPython.display import clear_output\n",
    "\n",
    "import superscreen as sc\n",
    "from superscreen.geometry import circle"
   ]
  },
  {
   "cell_type": "markdown",
   "id": "b6552b19",
   "metadata": {},
   "source": [
    "## Introduction\n",
    "\n",
    "The idea behind `superscreen.solve_many()` is to create a set of **models** based on a single `Device` and solve them all with a single command. A single **model** consists of the following:\n",
    "\n",
    "- A `superscreen.Parameter` that calculates the applied magnetic field (if any).\n",
    "- A `dict` of `{hole_name: circulating_current}` specifying the circulating currents in the `Device` (if any).\n",
    "- A `list` of `superscreen.Vortex` objects representing vortices trapped in the `Device`.\n",
    "\n",
    "Additionally, for each **model** the penetration depth and/or $z$-position of each `layer` in the `Device` can be modified by a `layer_updater` function that takes some `update_kwargs` such that\n",
    "\n",
    "```python\n",
    "new_layer = layer_updater(old_layer, **update_kwargs)\n",
    "```\n",
    "\n",
    "In pseudocode, `superscreen.solve_many()` does the following:\n",
    "\n",
    "```python\n",
    "# Simplified pseudocode for superscreen.solve_many().\n",
    "# Given a Device, a layer_updater function, and a list of \"models\":\n",
    "model_solutions = []\n",
    "for model in models:\n",
    "    applied_field, circulating_currents, vortices, update_kwargs = model\n",
    "    device.layers_list = [layer_updater(layer, **update_kwargs) for layer in device.layers_list]\n",
    "    solutions = superscreen.solve(\n",
    "        device,\n",
    "        applied_field=applied_field,\n",
    "        circulating_currents=circulating_currents,\n",
    "        vortices=vortices,\n",
    "        ...,\n",
    "    )\n",
    "    model_solutions.append(solutions)\n",
    "# Save and/or return model_solutions.\n",
    "```\n",
    "\n",
    "There are a few reasons one would want to use `superscreen.solve_many()` instead of simply writing out a `for` loop:\n",
    "\n",
    "1. `solve_many()` takes care of generating the list of **models** to solve.\n",
    "2. `solve_many()` takes care of saving results in a convenient way.\n",
    "3. The `for` loop in the pseudocode above can be parallelized to run across multiple CPUs or even multiple nodes in a computing cluster."
   ]
  },
  {
   "cell_type": "markdown",
   "id": "01dd40b6",
   "metadata": {},
   "source": [
    "### Parallel methods\n",
    "\n",
    "There are three different \"parallel methods\" that can be specified when calling `superscreen.solve_many()`:\n",
    "\n",
    "1. `\"serial\"` or `None`: All models are solved sequentially in a single Python process (a simple `for` loop as sketched above).\n",
    "2. `\"multiprocessing\"` or `\"mp\"`: Models are solved in parallel using at most `ncpu` processes, where `ncpu` is the number of CPU cores available. This option uses the [multiprocessing](https://docs.python.org/3/library/multiprocessing.html) package from the Python standard library.\n",
    "3. `\"ray\"`: Models are solved in parallel on multiple CPUs using the third-party distributed computing package, [ray](https://docs.ray.io/en/latest/index.html).\n",
    "\n",
    "Both the `\"multiprocessing\"` and `\"ray\"` options are implemented such that a `Device's` \"big\" arrays, i.e. the mesh, Laplace operator, and kernel matrix, are placed in shared memory rather than copied to each worker process. The `\"multiprocessing\"` option is limited to work on a single machine (i.e. a laptop, workstation, or a single node in a compute cluster). The `\"ray\"` option can in principle also be used across multiple nodes in a cluster (see the [ray documentation](https://docs.ray.io/en/latest/cluster/index.html))."
   ]
  },
  {
   "cell_type": "markdown",
   "id": "7f83d6ba",
   "metadata": {},
   "source": [
    "### Disclaimer\n",
    "\n",
    "It is important to note that the relative performance of the three different \"parallel methods\" will in general depend on the specific models your are solving, and on the setup of your machine (how many CPU cores, what other programs are running, etc.). With both `multiprocessing` and `ray`, there is some overhead associated with placing arrays in shared memory and spinning up and managing new processes. This means that if each call to `solve()` (see the pseudocode above) takes only a few seconds, you are unlikely to see a big performance improvement relative to serial execution. In the limit that each call to `solve()` takes a long time relative to this overhead, you can in principle get a speedup of order `ncpu`, where `ncpu` is the number of CPUs avilable. We recommend comparing the three parallel methods in your own application before deciding which to use."
   ]
  },
  {
   "cell_type": "code",
   "execution_count": null,
   "id": "907eb836",
   "metadata": {
    "execution": {
     "iopub.execute_input": "2022-12-15T02:00:59.376543Z",
     "iopub.status.busy": "2022-12-15T02:00:59.375848Z",
     "iopub.status.idle": "2022-12-15T02:00:59.441887Z",
     "shell.execute_reply": "2022-12-15T02:00:59.440683Z"
    }
   },
   "outputs": [],
   "source": [
    "sc.version_table()"
   ]
  },
  {
   "cell_type": "markdown",
   "id": "fbeffd7d",
   "metadata": {},
   "source": [
    "## Example\n",
    "\n",
    "Here we will demonstrate the use of `superscreen.solve_many()` by modeling the mutual inductance between two concentric rings as a function of both their penetration depth $\\Lambda$ and the vertical distance $\\Delta z$ between them."
   ]
  },
  {
   "cell_type": "markdown",
   "id": "48f6e2a1",
   "metadata": {},
   "source": [
    "### Setup\n",
    "\n",
    "Define a function to create out `Device` with two concentric rings."
   ]
  },
  {
   "cell_type": "code",
   "execution_count": null,
   "id": "9e77684e",
   "metadata": {
    "execution": {
     "iopub.execute_input": "2022-12-15T02:00:59.449885Z",
     "iopub.status.busy": "2022-12-15T02:00:59.449334Z",
     "iopub.status.idle": "2022-12-15T02:00:59.460535Z",
     "shell.execute_reply": "2022-12-15T02:00:59.459561Z"
    }
   },
   "outputs": [],
   "source": [
    "def two_rings(inner_radius=3, outer_radius=5, length_units=\"um\"):\n",
    "    \"\"\"Returns a Device representing two concentric rings.\"\"\"\n",
    "    layers = [\n",
    "        sc.Layer(\"layer0\", Lambda=0, z0=0),\n",
    "        sc.Layer(\"layer1\", Lambda=0, z0=1),\n",
    "    ]\n",
    "    films = [\n",
    "        sc.Polygon(\"big_ring\", layer=\"layer0\", points=circle(1.5 * outer_radius)),\n",
    "        sc.Polygon(\"little_ring\", layer=\"layer1\", points=circle(outer_radius)),\n",
    "    ]\n",
    "    holes = [\n",
    "        sc.Polygon(\"big_hole\", layer=\"layer0\", points=circle(1.5 * inner_radius)),\n",
    "        sc.Polygon(\"little_hole\", layer=\"layer1\", points=circle(inner_radius)),\n",
    "    ]\n",
    "    return sc.Device(\n",
    "        \"two_rings\",\n",
    "        layers=layers,\n",
    "        films=films,\n",
    "        holes=holes,\n",
    "        length_units=length_units,\n",
    "    )"
   ]
  },
  {
   "cell_type": "code",
   "execution_count": null,
   "id": "d31c0db3",
   "metadata": {
    "execution": {
     "iopub.execute_input": "2022-12-15T02:00:59.465941Z",
     "iopub.status.busy": "2022-12-15T02:00:59.465459Z",
     "iopub.status.idle": "2022-12-15T02:01:00.345528Z",
     "shell.execute_reply": "2022-12-15T02:01:00.344575Z"
    }
   },
   "outputs": [],
   "source": [
    "device = two_rings()\n",
    "_ = device.draw(subplots=True)"
   ]
  },
  {
   "cell_type": "code",
   "execution_count": null,
   "id": "94f63154",
   "metadata": {
    "execution": {
     "iopub.execute_input": "2022-12-15T02:01:00.351892Z",
     "iopub.status.busy": "2022-12-15T02:01:00.351470Z",
     "iopub.status.idle": "2022-12-15T02:01:02.817183Z",
     "shell.execute_reply": "2022-12-15T02:01:02.816232Z"
    }
   },
   "outputs": [],
   "source": [
    "device.make_mesh(max_edge_length=0.5)"
   ]
  },
  {
   "cell_type": "code",
   "execution_count": null,
   "id": "047c285d",
   "metadata": {},
   "outputs": [],
   "source": [
    "fig, ax = device.plot_mesh(subplots=True, show_sites=False)"
   ]
  },
  {
   "cell_type": "markdown",
   "id": "8599d883",
   "metadata": {},
   "source": [
    "Recall that to model the mutual inductance $M$ between two holes, we specify a current $I_\\mathrm{circ}$ to circulate around one of the holes, and calculate the fluxoid $\\Phi^f_S$ induced in the other hole. The mutual inductance is then $M=\\Phi^f_S / I_\\mathrm{circ}$."
   ]
  },
  {
   "cell_type": "code",
   "execution_count": null,
   "id": "37f02dd3",
   "metadata": {
    "execution": {
     "iopub.execute_input": "2022-12-15T02:01:02.823458Z",
     "iopub.status.busy": "2022-12-15T02:01:02.823075Z",
     "iopub.status.idle": "2022-12-15T02:01:02.828018Z",
     "shell.execute_reply": "2022-12-15T02:01:02.827253Z"
    }
   },
   "outputs": [],
   "source": [
    "I_circ = device.ureg(\"1 mA\")\n",
    "circulating_currents = {\"big_hole\": str(I_circ)}"
   ]
  },
  {
   "cell_type": "code",
   "execution_count": null,
   "id": "1da38739",
   "metadata": {
    "execution": {
     "iopub.execute_input": "2022-12-15T02:01:02.833271Z",
     "iopub.status.busy": "2022-12-15T02:01:02.832929Z",
     "iopub.status.idle": "2022-12-15T02:01:02.837097Z",
     "shell.execute_reply": "2022-12-15T02:01:02.836403Z"
    }
   },
   "outputs": [],
   "source": [
    "max_cpus = sc.parallel.cpu_count()\n",
    "num_cpus = [1] + list(range(2, max_cpus, 2))"
   ]
  },
  {
   "cell_type": "markdown",
   "id": "59cbfaa7",
   "metadata": {},
   "source": [
    "### Sweep $\\Lambda$"
   ]
  },
  {
   "cell_type": "code",
   "execution_count": null,
   "id": "32ed1469",
   "metadata": {
    "execution": {
     "iopub.execute_input": "2022-12-15T02:01:02.842004Z",
     "iopub.status.busy": "2022-12-15T02:01:02.841704Z",
     "iopub.status.idle": "2022-12-15T02:01:02.847360Z",
     "shell.execute_reply": "2022-12-15T02:01:02.846665Z"
    }
   },
   "outputs": [],
   "source": [
    "def update_Lambda(layer, **Lambdas):\n",
    "    \"\"\"Updates a layer based on a dict Lambdas = {layer_name: layer_Lambda}.\"\"\"\n",
    "    if layer.name in Lambdas:\n",
    "        layer.Lambda = Lambdas[layer.name]\n",
    "    return layer\n",
    "\n",
    "\n",
    "def sweep_Lambda(Lambdas, ncpus, iterations=4, parallel_method=None):\n",
    "    \"\"\"Sweep Lambda using superscreen.solve_many().\"\"\"\n",
    "\n",
    "    layer_update_kwargs = [\n",
    "        {layer.name: Lambda for layer in device.layers.values()} for Lambda in Lambdas\n",
    "    ]\n",
    "\n",
    "    solutions, paths = sc.solve_many(\n",
    "        device,\n",
    "        circulating_currents=circulating_currents,\n",
    "        layer_updater=update_Lambda,\n",
    "        layer_update_kwargs=layer_update_kwargs,\n",
    "        parallel_method=parallel_method,\n",
    "        num_cpus=ncpus,\n",
    "        iterations=iterations,\n",
    "        return_solutions=True,\n",
    "        keep_only_final_solution=True,\n",
    "    )\n",
    "    clear_output(wait=True)\n",
    "    return solutions"
   ]
  },
  {
   "cell_type": "code",
   "execution_count": null,
   "id": "0062f228",
   "metadata": {
    "execution": {
     "iopub.execute_input": "2022-12-15T02:01:02.852035Z",
     "iopub.status.busy": "2022-12-15T02:01:02.851704Z",
     "iopub.status.idle": "2022-12-15T02:01:02.855514Z",
     "shell.execute_reply": "2022-12-15T02:01:02.854801Z"
    }
   },
   "outputs": [],
   "source": [
    "Lambdas = np.linspace(0, 0.95, 20)"
   ]
  },
  {
   "cell_type": "code",
   "execution_count": null,
   "id": "b968716b",
   "metadata": {
    "execution": {
     "iopub.execute_input": "2022-12-15T02:01:02.859565Z",
     "iopub.status.busy": "2022-12-15T02:01:02.859282Z",
     "iopub.status.idle": "2022-12-15T02:08:26.895459Z",
     "shell.execute_reply": "2022-12-15T02:08:26.894403Z"
    },
    "scrolled": true
   },
   "outputs": [],
   "source": [
    "serial_result = %timeit -o sweep_Lambda(Lambdas, 1, parallel_method=None)"
   ]
  },
  {
   "cell_type": "code",
   "execution_count": null,
   "id": "d2d3e805",
   "metadata": {
    "execution": {
     "iopub.execute_input": "2022-12-15T02:08:26.901088Z",
     "iopub.status.busy": "2022-12-15T02:08:26.900694Z",
     "iopub.status.idle": "2022-12-15T02:29:16.175223Z",
     "shell.execute_reply": "2022-12-15T02:29:16.173445Z"
    }
   },
   "outputs": [],
   "source": [
    "ray_results = []\n",
    "\n",
    "for ncpus in num_cpus:\n",
    "    ray.init(num_cpus=ncpus)\n",
    "    ray_result = %timeit -o sweep_Lambda(Lambdas, ncpus, parallel_method=\"ray\")\n",
    "    ray_results.append(ray_result)\n",
    "    ray.shutdown()"
   ]
  },
  {
   "cell_type": "code",
   "execution_count": null,
   "id": "f6badeb7",
   "metadata": {
    "execution": {
     "iopub.execute_input": "2022-12-15T02:29:16.181897Z",
     "iopub.status.busy": "2022-12-15T02:29:16.180330Z",
     "iopub.status.idle": "2022-12-15T02:58:44.958067Z",
     "shell.execute_reply": "2022-12-15T02:58:44.956907Z"
    }
   },
   "outputs": [],
   "source": [
    "mp_results = []\n",
    "\n",
    "for ncpus in num_cpus:\n",
    "    mp_result = %timeit -o sweep_Lambda(Lambdas, ncpus, parallel_method=\"multiprocessing\")\n",
    "    mp_results.append(mp_result)"
   ]
  },
  {
   "cell_type": "code",
   "execution_count": null,
   "id": "0ed97e68",
   "metadata": {
    "execution": {
     "iopub.execute_input": "2022-12-15T02:58:44.964658Z",
     "iopub.status.busy": "2022-12-15T02:58:44.964259Z",
     "iopub.status.idle": "2022-12-15T02:58:45.143950Z",
     "shell.execute_reply": "2022-12-15T02:58:45.143132Z"
    }
   },
   "outputs": [],
   "source": [
    "fig, ax = plt.subplots()\n",
    "for results, label in [(ray_results, \"ray\"), (mp_results, \"multiprocessing\")]:\n",
    "    xs = num_cpus\n",
    "    ys = [serial_result.average / result.average for result in results]\n",
    "    ax.plot(xs, ys, \"o--\", label=label)\n",
    "ax.legend(loc=0)\n",
    "ax.set_xlabel(\"Number of CPUs\")\n",
    "ax.set_ylabel(\"Speed-up vs. serial\")\n",
    "ax.grid(True)"
   ]
  },
  {
   "cell_type": "markdown",
   "id": "b6be086a",
   "metadata": {},
   "source": [
    "Calculcate and plot the mutual inductance $M$ for each `Solution`:"
   ]
  },
  {
   "cell_type": "code",
   "execution_count": null,
   "id": "741251c0",
   "metadata": {
    "execution": {
     "iopub.execute_input": "2022-12-15T02:58:45.149614Z",
     "iopub.status.busy": "2022-12-15T02:58:45.149316Z",
     "iopub.status.idle": "2022-12-15T03:00:00.662434Z",
     "shell.execute_reply": "2022-12-15T03:00:00.661346Z"
    }
   },
   "outputs": [],
   "source": [
    "solutions = sweep_Lambda(Lambdas, num_cpus[-1], parallel_method=\"ray\")\n",
    "mutuals = []\n",
    "for i, solution in enumerate(solutions):\n",
    "    print(i, end=\" \")\n",
    "    fluxoid = sum(solution.hole_fluxoid(\"little_hole\"))\n",
    "    mutuals.append((fluxoid / I_circ).to(\"pH\").magnitude)"
   ]
  },
  {
   "cell_type": "code",
   "execution_count": null,
   "id": "2ca6a305",
   "metadata": {
    "execution": {
     "iopub.execute_input": "2022-12-15T03:00:00.668327Z",
     "iopub.status.busy": "2022-12-15T03:00:00.667936Z",
     "iopub.status.idle": "2022-12-15T03:00:00.858354Z",
     "shell.execute_reply": "2022-12-15T03:00:00.857498Z"
    }
   },
   "outputs": [],
   "source": [
    "fig, ax = plt.subplots()\n",
    "ax.plot(Lambdas, mutuals, \"o-\")\n",
    "ax.grid(True)\n",
    "ax.set_xlabel(\"$\\\\Lambda$ [$\\\\mu$m]\")\n",
    "ax.set_ylabel(\"Mutual inductance [pH]\")\n",
    "DeltaZ = device.layers[\"layer1\"].z0 - device.layers[\"layer0\"].z0\n",
    "ax.set_title(f\"$\\\\Delta z$ = {DeltaZ:.1f} $\\\\mu$m\")"
   ]
  },
  {
   "cell_type": "markdown",
   "id": "67bbeb72",
   "metadata": {},
   "source": [
    "### Sweep $\\Delta z$"
   ]
  },
  {
   "cell_type": "code",
   "execution_count": null,
   "id": "dda1afe8",
   "metadata": {
    "execution": {
     "iopub.execute_input": "2022-12-15T03:00:00.861685Z",
     "iopub.status.busy": "2022-12-15T03:00:00.861354Z",
     "iopub.status.idle": "2022-12-15T03:00:00.867554Z",
     "shell.execute_reply": "2022-12-15T03:00:00.866791Z"
    }
   },
   "outputs": [],
   "source": [
    "def update_height(layer, **heights):\n",
    "    if layer.name in heights:\n",
    "        layer.z0 = heights[layer.name]\n",
    "    return layer\n",
    "\n",
    "\n",
    "def sweep_height(heights, ncpus, iterations=6, parallel_method=None):\n",
    "    \"\"\"Sweep \\Delta z using superscreen.solve_many().\"\"\"\n",
    "    layer_update_kwargs = [dict(layer0=0, layer1=z0) for z0 in heights]\n",
    "    solutions, paths = sc.solve_many(\n",
    "        device,\n",
    "        circulating_currents=circulating_currents,\n",
    "        layer_updater=update_height,\n",
    "        layer_update_kwargs=layer_update_kwargs,\n",
    "        parallel_method=parallel_method,\n",
    "        num_cpus=ncpus,\n",
    "        iterations=iterations,\n",
    "        return_solutions=True,\n",
    "        keep_only_final_solution=True,\n",
    "    )\n",
    "    clear_output(wait=True)\n",
    "    return solutions"
   ]
  },
  {
   "cell_type": "code",
   "execution_count": null,
   "id": "a3e4e903",
   "metadata": {
    "execution": {
     "iopub.execute_input": "2022-12-15T03:00:00.870508Z",
     "iopub.status.busy": "2022-12-15T03:00:00.870152Z",
     "iopub.status.idle": "2022-12-15T03:00:00.874722Z",
     "shell.execute_reply": "2022-12-15T03:00:00.873993Z"
    }
   },
   "outputs": [],
   "source": [
    "z0s = np.linspace(0.5, 5.5, 40)\n",
    "\n",
    "# Set Lambda = 0.5 microns for both layers\n",
    "Lambda = 0.5\n",
    "for layer in device.layers.values():\n",
    "    layer.Lambda = Lambda"
   ]
  },
  {
   "cell_type": "code",
   "execution_count": null,
   "id": "b0fcf122",
   "metadata": {
    "execution": {
     "iopub.execute_input": "2022-12-15T03:00:00.877479Z",
     "iopub.status.busy": "2022-12-15T03:00:00.877196Z",
     "iopub.status.idle": "2022-12-15T03:18:33.072706Z",
     "shell.execute_reply": "2022-12-15T03:18:33.071677Z"
    },
    "scrolled": true
   },
   "outputs": [],
   "source": [
    "serial_result = %timeit -o sweep_height(z0s, 1, parallel_method=None)"
   ]
  },
  {
   "cell_type": "code",
   "execution_count": null,
   "id": "ddb57f00",
   "metadata": {
    "execution": {
     "iopub.execute_input": "2022-12-15T03:18:33.078338Z",
     "iopub.status.busy": "2022-12-15T03:18:33.078024Z",
     "iopub.status.idle": "2022-12-15T04:04:11.025833Z",
     "shell.execute_reply": "2022-12-15T04:04:11.024070Z"
    }
   },
   "outputs": [],
   "source": [
    "ray_results = []\n",
    "\n",
    "for ncpus in num_cpus:\n",
    "    ray.init(num_cpus=ncpus)\n",
    "    ray_result = %timeit -o sweep_height(z0s, ncpus, parallel_method=\"ray\")\n",
    "    ray_results.append(ray_result)\n",
    "    ray.shutdown()"
   ]
  },
  {
   "cell_type": "code",
   "execution_count": null,
   "id": "8f2beeff",
   "metadata": {
    "execution": {
     "iopub.execute_input": "2022-12-15T04:04:11.032644Z",
     "iopub.status.busy": "2022-12-15T04:04:11.032155Z",
     "iopub.status.idle": "2022-12-15T05:22:02.540189Z",
     "shell.execute_reply": "2022-12-15T05:22:02.539178Z"
    }
   },
   "outputs": [],
   "source": [
    "mp_results = []\n",
    "\n",
    "for ncpus in num_cpus:\n",
    "    mp_result = %timeit -o sweep_height(z0s, ncpus, parallel_method=\"multiprocessing\")\n",
    "    mp_results.append(mp_result)"
   ]
  },
  {
   "cell_type": "code",
   "execution_count": null,
   "id": "7f67a3e1",
   "metadata": {
    "execution": {
     "iopub.execute_input": "2022-12-15T05:22:02.545845Z",
     "iopub.status.busy": "2022-12-15T05:22:02.545448Z",
     "iopub.status.idle": "2022-12-15T05:22:02.759649Z",
     "shell.execute_reply": "2022-12-15T05:22:02.759124Z"
    }
   },
   "outputs": [],
   "source": [
    "fig, ax = plt.subplots()\n",
    "for results, label in [(ray_results, \"ray\"), (mp_results, \"multiprocessing\")]:\n",
    "    xs = num_cpus\n",
    "    ys = [serial_result.average / result.average for result in results]\n",
    "    ax.plot(xs, ys, \"o--\", label=label)\n",
    "ax.legend(loc=0)\n",
    "ax.set_xlabel(\"Number of CPUs\")\n",
    "ax.set_ylabel(\"Speed-up vs. serial\")\n",
    "ax.grid(True)"
   ]
  },
  {
   "cell_type": "markdown",
   "id": "a1f9ab66",
   "metadata": {},
   "source": [
    "Calculcate and plot the mutual inductance $M$ for each `Solution`:"
   ]
  },
  {
   "cell_type": "code",
   "execution_count": null,
   "id": "d9690af4",
   "metadata": {
    "execution": {
     "iopub.execute_input": "2022-12-15T05:22:02.766359Z",
     "iopub.status.busy": "2022-12-15T05:22:02.766060Z",
     "iopub.status.idle": "2022-12-15T05:24:30.161573Z",
     "shell.execute_reply": "2022-12-15T05:24:30.160196Z"
    }
   },
   "outputs": [],
   "source": [
    "solutions = sweep_height(z0s, num_cpus[-1], parallel_method=\"multiprocessing\")\n",
    "mutuals = []\n",
    "for i, solution in enumerate(solutions):\n",
    "    print(i, end=\" \")\n",
    "    fluxoid = sum(solution.hole_fluxoid(\"little_hole\"))\n",
    "    mutuals.append((fluxoid / I_circ).to(\"pH\").magnitude)"
   ]
  },
  {
   "cell_type": "code",
   "execution_count": null,
   "id": "15296bb6",
   "metadata": {
    "execution": {
     "iopub.execute_input": "2022-12-15T05:24:30.167330Z",
     "iopub.status.busy": "2022-12-15T05:24:30.166943Z",
     "iopub.status.idle": "2022-12-15T05:24:30.356174Z",
     "shell.execute_reply": "2022-12-15T05:24:30.355291Z"
    }
   },
   "outputs": [],
   "source": [
    "fig, ax = plt.subplots()\n",
    "ax.plot(z0s, mutuals, \"o-\")\n",
    "ax.grid(True)\n",
    "ax.set_xlabel(\"$\\\\Delta z$ [$\\\\mu$m]\")\n",
    "ax.set_ylabel(\"Mutual inductance [pH]\")\n",
    "ax.set_title(f\"$\\\\Lambda$ = {Lambda:.1f} $\\\\mu$m\")"
   ]
  },
  {
   "cell_type": "code",
   "execution_count": null,
   "id": "1d037874",
   "metadata": {},
   "outputs": [],
   "source": []
  }
 ],
 "metadata": {
  "kernelspec": {
   "display_name": "Python 3 (ipykernel)",
   "language": "python",
   "name": "python3"
  },
  "language_info": {
   "codemirror_mode": {
    "name": "ipython",
    "version": 3
   },
   "file_extension": ".py",
   "mimetype": "text/x-python",
   "name": "python",
   "nbconvert_exporter": "python",
   "pygments_lexer": "ipython3",
   "version": "3.9.13"
  },
  "nbsphinx": {
   "execute": "never"
  }
 },
 "nbformat": 4,
 "nbformat_minor": 5
}
